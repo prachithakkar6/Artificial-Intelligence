{
 "cells": [
  {
   "cell_type": "markdown",
   "metadata": {
    "id": "H9GUkMwzFyub"
   },
   "source": [
    "# Artificial and Computational Intelligence Assignment 1"
   ]
  },
  {
   "cell_type": "markdown",
   "metadata": {
    "id": "f-GjrEkrFyuc"
   },
   "source": [
    "## Problem solving by Informed Search (A* Algorithm)"
   ]
  },
  {
   "cell_type": "markdown",
   "metadata": {
    "id": "hPcErLCRFyuc"
   },
   "source": [
    "Active contributors in this assignment:\n",
    "1. KANURU NAGESWARA RAO (BITS ID: **2021sc04876**)\n",
    "2. ARUN MATHEW (BITS ID: **2021sc04982**)\n",
    "3. THAKKAR PRACHI CHETAN CHETNA (BITS ID: **2021sc04875**)"
   ]
  },
  {
   "cell_type": "markdown",
   "metadata": {
    "id": "Y8SauNckFyud"
   },
   "source": [
    "### 1.\tDefine the environment in the following block"
   ]
  },
  {
   "cell_type": "markdown",
   "metadata": {
    "id": "xTAkkRECFyud"
   },
   "source": [
    "<h4>PEAS decription of the given problem statement.</h4>\n",
    "\n",
    "<p><h6><u>PSA Agent(Problem Solving Agent) </u></h6></p>\n",
    "\n",
    "<p><b>Agent</b> : We have two agents R1 and G1 that are neither competing nor collaborating with each other. \n",
    "<p><b>Performance</b> : Cost required to reach the goal ( Reaching the goal with the lowest cost is the expectation )\n",
    "<p><b>Environment</b> : The environment consists of 2 scenarios - Scenario 1 (Grid 1) and Scenario 2 (Grid 2). Both the scenarios have Green and Red coloured rooms arranged in different patterns. \n",
    "<p><b>Sensors</b> : Colour identification program for identifying room colour of the agent and neighbour nodes - Green and Red colored rooms. \n",
    "<p><b>Actuators</b> : Program to move the agents in one of the 4 available directions - North, South, East, West. Display of marking for agents visit.\n",
    "\n",
    "\n"
   ]
  },
  {
   "cell_type": "markdown",
   "metadata": {},
   "source": [
    "#### Environment Definition"
   ]
  },
  {
   "cell_type": "code",
   "execution_count": 1,
   "metadata": {},
   "outputs": [],
   "source": [
    "# Import libraries\n",
    "import numpy as np\n",
    "import random\n",
    "import heapq\n",
    "import time\n",
    "import numpy as np\n",
    "import pandas as pd\n",
    "from IPython.display import display, HTML\n",
    "\n"
   ]
  },
  {
   "cell_type": "code",
   "execution_count": 2,
   "metadata": {
    "id": "2MAHnXD1Fyud"
   },
   "outputs": [],
   "source": [
    "#Code Block : Set Initial State (Must handle dynamic inputs)\n",
    "\n",
    "# Define the agents. \n",
    "# There are 2 distinct agents R1 and G1, both trying to navigate through grid searching for the goal node. \n",
    "agents = ['R1', 'G1']\n",
    "\n",
    "# Available colours in the grid\n",
    "# The grid has 2 colours. Green and Red. \n",
    "colours = {\n",
    "    0:'Green',\n",
    "    1:'Red'\n",
    "}\n",
    "\n",
    "# Obstacle room for each agent\n",
    "# R1 has additional penalty\n",
    "agent_obstacle = {\n",
    "    'R1':'Green',\n",
    "    'G1': 'Red'\n",
    "}"
   ]
  },
  {
   "cell_type": "markdown",
   "metadata": {},
   "source": [
    "<b> Create the grid environments for search"
   ]
  },
  {
   "cell_type": "markdown",
   "metadata": {},
   "source": [
    "Both the environments are represented using 6*6 matrices containing values 0 and 1. \n",
    "<ul>\n",
    "   <li> 0 > indicates green\n",
    "   <li> 1 > indicates red\n",
    "</ul>"
   ]
  },
  {
   "cell_type": "code",
   "execution_count": 3,
   "metadata": {},
   "outputs": [
    {
     "name": "stdout",
     "output_type": "stream",
     "text": [
      "-------Grid 1 ------\n",
      "[[1 0 0 0 1 0]\n",
      " [0 0 0 1 0 0]\n",
      " [0 0 1 0 0 0]\n",
      " [0 1 0 0 0 1]\n",
      " [1 0 0 0 1 0]\n",
      " [0 0 0 1 0 0]]\n",
      "\n",
      "-------Grid 2 ------\n",
      "[[1 0 1 0 1 0]\n",
      " [0 1 0 1 0 1]\n",
      " [1 0 1 0 1 0]\n",
      " [0 1 0 1 0 1]\n",
      " [1 0 1 0 1 0]\n",
      " [0 1 0 1 0 1]]\n"
     ]
    }
   ],
   "source": [
    "\n",
    "# Create the Grid for scenario 1\n",
    "def create_grid1():\n",
    "    grid = np.zeros([6,6],dtype=int)\n",
    "    grid[0,0] = 1\n",
    "    grid[0,4] = 1\n",
    "    grid[1,3] = 1\n",
    "    grid[2,2] = 1\n",
    "    grid[3,1] = 1\n",
    "    grid[4,0] = 1\n",
    "    grid[3,5] = 1\n",
    "    grid[4,4] = 1\n",
    "    grid[5,3] = 1\n",
    "    return grid\n",
    "\n",
    "grid1 = create_grid1()\n",
    "\n",
    "# Create the grid for scenario 2\n",
    "def build_checkerboard(w, h) :\n",
    "    re = np.r_[ w*[1,0] ]              # even-numbered rows\n",
    "    ro = np.r_[ w*[0,1] ]              # odd-numbered rows\n",
    "    return np.row_stack(h*(re, ro))\n",
    "\n",
    "def create_grid2():\n",
    "    return build_checkerboard(3,3)\n",
    "\n",
    "grid2 = create_grid2()\n",
    "\n",
    "print('-------Grid 1 ------')\n",
    "print(grid1)\n",
    "print()\n",
    "print('-------Grid 2 ------')\n",
    "print(grid2)\n"
   ]
  },
  {
   "cell_type": "markdown",
   "metadata": {},
   "source": [
    "#### Utility Methods"
   ]
  },
  {
   "cell_type": "code",
   "execution_count": 4,
   "metadata": {
    "id": "3DzivjiGFyue"
   },
   "outputs": [],
   "source": [
    "#Code Block : Set the matrix for transition & cost (as relevant for the given problem)\n",
    "\n",
    "# Fetch the colour of the node/room from the grid\n",
    "def get_colour(node, grid):\n",
    "    return grid[node[0], node[1]]\n",
    "\n",
    "# Check whether the node is having a colour different from the goal node\n",
    "def is_wrong_coloured_room(node, goal, grid):\n",
    "    return get_colour(node, grid) != get_colour(goal, grid)\n",
    "\n",
    "def is_obstacle_room(node, grid, agent):\n",
    "    color_code = get_colour(node, grid)\n",
    "    return agent_obstacle[agent] == colours[color_code]\n",
    "\n",
    "\n",
    "\n",
    "# Calculate the heuristic cost estimate\n",
    "# The heuristic cost is manhattan distance +/- color penalty\n",
    "# If the node and the goal are in same coloured nodes, then a penalty of (-5) will be added and (+5) otherwise. \n",
    "def heuristic_cost_estimate(node, goal, grid):\n",
    "    # Calculate the Manhattan distance between the node and the goal\n",
    "    manhattan_distance = abs(node[0] - goal[0]) + abs(node[1] - goal[1])\n",
    "    \n",
    "    #Calculate the color penalty\n",
    "    if is_wrong_coloured_room(node, goal, grid): # node and goal are not in the same-colored room\n",
    "        color_penalty = 5\n",
    "    else:\n",
    "        color_penalty = -5\n",
    "\n",
    "    return manhattan_distance + color_penalty\n",
    "\n",
    "# Get the cost of the room.\n",
    "# If the agent is moving to an obstacle room, the cost of +10 will be penalty. Else, (-10) will be the penalty (reward). \n",
    "def get_room_cost(current, neighbor, grid, agent):\n",
    "    # enable the below section to prevent further reduction of room cost if the agent is not moving to a \n",
    "    # different coloured room\n",
    "    #if get_colour(current, grid) == get_colour(neighbor, grid):\n",
    "    #    cost = 0\n",
    "    \n",
    "    if is_obstacle_room(neighbor, grid, agent):\n",
    "        cost = 10  # Incur a penalty for entering the wrong-colored room\n",
    "    else:\n",
    "        cost = -10  # Get a bonus for entering the correct-colored room\n",
    "    return cost\n"
   ]
  },
  {
   "cell_type": "markdown",
   "metadata": {},
   "source": [
    "#### Utility Methods : Find the neighbours of a node"
   ]
  },
  {
   "cell_type": "code",
   "execution_count": 5,
   "metadata": {
    "id": "X0dhW7_LFyue"
   },
   "outputs": [],
   "source": [
    "# Given a node, find the neighbours of that node.\n",
    "def find_neighbours(node, grid):\n",
    "    possible_movements = [(0,1),(1,0), (0,-1),(-1,0)]\n",
    "    neighbours = []\n",
    "    g_shape = grid.shape\n",
    "    for i in possible_movements:\n",
    "        step = (node[0]+i[0], node[1]+i[1])\n",
    "        if step[0] > -1 and step[1] > -1 and step[0]<g_shape[0] and step[1]<g_shape[1]:\n",
    "            neighbours.append(step)\n",
    "    return neighbours\n",
    "\n",
    "def reconstruct_path(cameFrom, current):\n",
    "    total_path = [current]\n",
    "    while current in cameFrom:\n",
    "        current = cameFrom[current]\n",
    "        total_path.append(current)\n",
    "    return total_path\n"
   ]
  },
  {
   "cell_type": "code",
   "execution_count": 6,
   "metadata": {
    "id": "zImA1VT4Fyue"
   },
   "outputs": [],
   "source": [
    "# Create a random start point. \n",
    "def create_start_point(grid):\n",
    "    grid_shape = grid.shape\n",
    "    x = random.randint(0,grid_shape[0]-1)\n",
    "    y = random.randint(0,grid_shape[1]-1)\n",
    "    return (x,y)\n",
    "\n",
    "\n",
    "# Print the detailed logs generated by the search algorithm (A*)\n",
    "def log_path(logs, show_neighbors):\n",
    "    print('\\033[91m', 'Printing navigation logs')\n",
    "    main_logs = []\n",
    "    for node in logs:\n",
    "        #print('\\033[92m', 'Current Node', node['node'], 'Cost', node['gcost'], 'Color', node['color'], 'Is Goal', node['is_goal'])\n",
    "        row_log = [str(node['node']), node['gcost'], node['hcost'], node['fcost'],node['color'],node['is_goal']]\n",
    "        main_logs.append(row_log)\n",
    "        if show_neighbors and node['node'] != goal:\n",
    "            neighbors = node['neighbors']\n",
    "            for neighbor in neighbors:\n",
    "                if neighbore_node['opening'] == 1: \n",
    "                    print('\\033[94m','         ','node:',neighbor['node'], 'cost:', neighbor['cost'], 'hcost:',neighbore_node['hscore'], 'gcost:',neighbore_node['gscore'], 'color:',neighbor['color'])\n",
    "    \n",
    "    print('\\033[90m')\n",
    "    df = pd.DataFrame(main_logs, columns=['Node', 'Step Cost', 'Heuristic Cost', 'Total Cost', 'Node Colour', 'Goal Node?'])\n",
    "    display(df)\n",
    "    "
   ]
  },
  {
   "cell_type": "markdown",
   "metadata": {},
   "source": [
    "Define the goal nodes"
   ]
  },
  {
   "cell_type": "code",
   "execution_count": 7,
   "metadata": {},
   "outputs": [],
   "source": [
    "# Goal node of grid 1\n",
    "grid1_goal = (2,3)\n",
    "\n",
    "#Goal node of grid 2\n",
    "grid2_goal = (2,2)"
   ]
  },
  {
   "cell_type": "markdown",
   "metadata": {
    "id": "Dv_aI84TFyue"
   },
   "source": [
    "### 2.\tSolution using A* Algorithm"
   ]
  },
  {
   "cell_type": "code",
   "execution_count": 8,
   "metadata": {
    "id": "SQWEw6mUFyue"
   },
   "outputs": [],
   "source": [
    "#Code Block : Function for algorithm 1 implementation\n",
    "failure = (-1,-1)\n",
    "logs = []\n",
    "\n",
    "\n",
    "\n",
    "def a_star(start, goal, grid, agent):\n",
    "    space_used = 0\n",
    "    \n",
    "    # Total space used by the program\n",
    "    # Each neighbour node opened by the algorithm adds to the space complexity\n",
    "    \n",
    "\n",
    "    # Total time taken by the program\n",
    "    # Time complexity is the time in milliseconds taken to complete the program. \n",
    "    # If the algorithm has to open more number of nodes, time complexity will increase.\n",
    "    time_taken = 0\n",
    "    \n",
    "    if not (agent == 'R1' or agent == 'G1'):\n",
    "        print('Unknown agent. Agent should be \\'R1\\' or \\'G1\\'')\n",
    "    \n",
    "    # initialize the start time as current system time\n",
    "    start_time = time.time()\n",
    "    \n",
    "    #reinitialize logs\n",
    "    logs.clear()\n",
    "    print('Starting node ', start, 'Goal Node ', goal)\n",
    "\n",
    "    #The set of nodes already evaluated\n",
    "    closedSet = set() \n",
    "    \n",
    "    #The set of currently discovered nodes that are not evaluated yet.\n",
    "    #Initially, only the start node is known.\n",
    "    openSet = set()    \n",
    "    openSet.add(start)\n",
    "    space_used = space_used + 1\n",
    "    \n",
    "    #For each node, which node it can most efficiently be reached from.\n",
    "    #If a node can be reached from many nodes, cameFrom will eventually contain the\n",
    "    #most efficient previous step.\n",
    "    cameFrom = {}\n",
    "\n",
    "    #For each node, the cost of getting from the start node to that node.\n",
    "    gScore = {start:0}\n",
    "    shScore =heuristic_cost_estimate(start, goal, grid)\n",
    "    hScore = {start:shScore}\n",
    "    #The cost of going from start to start is zero.\n",
    "    fscore = {start:shScore}\n",
    "    oheap = []\n",
    "    heapq.heappush(oheap, (fscore[start], start))\n",
    "    while oheap: # is not empty\n",
    "        # current -> the node in openSet with the lowest fScore[] value\n",
    "        cost, current = heapq.heappop(oheap)\n",
    "        col = get_colour(current, grid)\n",
    "        log_data = {'node':current, 'gcost':gScore[current], 'hcost':hScore[current], 'fcost':cost,  'color':colours[col], 'is_goal':0}\n",
    "        if current == goal:\n",
    "            log_data['is_goal'] = 1\n",
    "            print('Found goal ', goal)\n",
    "            logs.append(log_data)\n",
    "            final_path = reconstruct_path(cameFrom, current)\n",
    "            \n",
    "            # Calculate the end time as current system time just before returning the final path\n",
    "            end_time = time.time()\n",
    "            time_taken = end_time - start_time\n",
    "            return final_path, space_used, time_taken\n",
    "        \n",
    "        #oheap.remove(current)\n",
    "        closedSet.add(current)\n",
    "        neighbors = find_neighbours(current, grid)\n",
    "        neighbor_log = []\n",
    "        for neighbor in neighbors:\n",
    "            if neighbor in closedSet:\n",
    "                continue        # Ignore the neighbor which is already evaluated.\n",
    "    \n",
    "            # Calculate the cost of transitioning to the neighbor\n",
    "            cost = 1  # Base path cost\n",
    "            cost += get_room_cost(current, neighbor, grid, agent)\n",
    "            tentative_gScore = gScore[current] + cost   \n",
    "            #logging data\n",
    "            neighbore_node = {'node':neighbor, 'color':colours[col]}\n",
    "            \n",
    "            if neighbor not in openSet  : # Discover a new node\n",
    "                openSet.add(neighbor)\n",
    "                space_used = space_used + 1\n",
    "            elif tentative_gScore >= gScore[neighbor]:\n",
    "                #logging data\n",
    "                neighbore_node['opening'] = 0\n",
    "                continue        # This is not a better path.\n",
    "            #logging data\n",
    "            neighbore_node['opening'] = 1\n",
    "            # This path is the best until now. Record it!\n",
    "            cameFrom[neighbor] = current\n",
    "            gScore[neighbor] = tentative_gScore\n",
    "            hcost =  heuristic_cost_estimate(neighbor, goal, grid)\n",
    "            hScore[neighbor] = hcost\n",
    "            fscore[neighbor] = gScore[neighbor] + hcost\n",
    "            heapq.heappush(oheap, (fscore[neighbor], neighbor))\n",
    "            \n",
    "            #data for logging\n",
    "            neighbore_node['gscore'] = gScore[neighbor]\n",
    "            neighbore_node['hscore'] = hcost\n",
    "            neighbore_node['cost'] = fscore[neighbor]\n",
    "            neighbor_log.append(neighbore_node)   \n",
    "        \n",
    "        log_data['neighbors'] = neighbor_log\n",
    "        logs.append(log_data)\n",
    "    \n",
    "    # Calculate the end time if the program cannot find the path to the goal node\n",
    "    end_time = time.time()\n",
    "    time_taken = end_time - start_time \n",
    "    return failure, space_used, time_taken"
   ]
  },
  {
   "cell_type": "markdown",
   "metadata": {
    "id": "Yby5rPLMFyuf"
   },
   "source": [
    "### DYNAMIC INPUT"
   ]
  },
  {
   "cell_type": "markdown",
   "metadata": {
    "id": "DCCXQ0owFyuf"
   },
   "source": [
    "IMPORTANT : Dynamic Input must be got in this section. Display the possible states to choose from:\n",
    "This is applicable for all the relevent problems as mentioned in the question. \n",
    "\n",
    "The program allows user to provide the start node as any arbitrary node in the grid.  Start point need to be specified as a valid tuple. \n",
    "The start point given will be passed to both the agents and both scenarios to trace the best path. \n",
    "Provide a valid tuple as the start node. Eg: (1,1) or specify value 'random' to generate a random start point"
   ]
  },
  {
   "cell_type": "code",
   "execution_count": 9,
   "metadata": {
    "id": "beAnddJKFyuf"
   },
   "outputs": [
    {
     "name": "stdout",
     "output_type": "stream",
     "text": [
      "Hint -> You can enter 'random' to generate a start node dynamically or provide the start node in the format (x,y). The start node should be between (0,0) and (5,5)\n",
      "Enter your start node:  (1,1)\n",
      "Using  (1, 1) as start node.\n"
     ]
    }
   ],
   "source": [
    "#Code Block : Function & call to get inputs (start/end state)\n",
    "\n",
    "def is_in_range(start_eval):\n",
    "    x = start_eval[0]\n",
    "    y = start_eval[1]\n",
    "    gshape = grid1.shape\n",
    "    return type(x)==int and type(y)==int and x > -1 and x < gshape[0] and y > -1 and y < gshape[1]\n",
    "\n",
    "    \n",
    "print('Hint -> You can enter \\'random\\' to generate a start node dynamically \\\n",
    "or provide the start node in the format (x,y). The start node should be between (0,0) and (5,5)')\n",
    "\n",
    "start = None\n",
    "counter = 0\n",
    "max_retry = 5\n",
    "\n",
    "while start is None and counter < max_retry:\n",
    "    dy_input = input('Enter your start node:  ')\n",
    "    counter = counter + 1\n",
    "    if dy_input.strip() == '':\n",
    "        continue\n",
    "    elif dy_input.lower() == 'random':\n",
    "        print('Generating a random start point')\n",
    "        start = create_start_point(grid1);\n",
    "        print('Generated ',start,' as random start point')\n",
    "    else:\n",
    "        try:\n",
    "            start_eval = eval(dy_input)\n",
    "            if type(start_eval) is not tuple:\n",
    "                continue\n",
    "            else:\n",
    "                if is_in_range(start_eval):\n",
    "                    start = start_eval\n",
    "                    print('Using ',start,'as start node.')\n",
    "                else:\n",
    "                    print('Start node is not valid')\n",
    "        except Exception as e:\n",
    "            print('Could not parse input value',e)\n",
    "\n",
    "if counter >= max_retry:\n",
    "    print('Could not create the start node.')\n",
    "    print('Generating random start point')\n",
    "    start = create_start_point(grid1)\n",
    "    print('Generated ',start,' as random start point')\n",
    "\n"
   ]
  },
  {
   "cell_type": "markdown",
   "metadata": {
    "id": "bqVEUFRoFyuf"
   },
   "source": [
    "### 4.\tCalling the search algorithms"
   ]
  },
  {
   "cell_type": "markdown",
   "metadata": {},
   "source": [
    "<b>Agent search for scenario 1 (Grid 1)<b>"
   ]
  },
  {
   "cell_type": "markdown",
   "metadata": {},
   "source": [
    "Agent G1"
   ]
  },
  {
   "cell_type": "code",
   "execution_count": 10,
   "metadata": {
    "id": "y9CAb9j8Fyuf"
   },
   "outputs": [
    {
     "name": "stdout",
     "output_type": "stream",
     "text": [
      "Starting node  (1, 1) Goal Node  (2, 3)\n",
      "Found goal  (2, 3)\n",
      "Final Path Taken by  G1  through Grid 1 (1, 1)->(1, 2)->(0, 2)->(0, 3)->(1, 3)->(2, 3)\n",
      "---navigation logs--\n",
      "\u001b[91m Printing navigation logs\n",
      "\u001b[90m\n"
     ]
    },
    {
     "data": {
      "text/html": [
       "<div>\n",
       "<style scoped>\n",
       "    .dataframe tbody tr th:only-of-type {\n",
       "        vertical-align: middle;\n",
       "    }\n",
       "\n",
       "    .dataframe tbody tr th {\n",
       "        vertical-align: top;\n",
       "    }\n",
       "\n",
       "    .dataframe thead th {\n",
       "        text-align: right;\n",
       "    }\n",
       "</style>\n",
       "<table border=\"1\" class=\"dataframe\">\n",
       "  <thead>\n",
       "    <tr style=\"text-align: right;\">\n",
       "      <th></th>\n",
       "      <th>Node</th>\n",
       "      <th>Step Cost</th>\n",
       "      <th>Heuristic Cost</th>\n",
       "      <th>Total Cost</th>\n",
       "      <th>Node Colour</th>\n",
       "      <th>Goal Node?</th>\n",
       "    </tr>\n",
       "  </thead>\n",
       "  <tbody>\n",
       "    <tr>\n",
       "      <th>0</th>\n",
       "      <td>(1, 1)</td>\n",
       "      <td>0</td>\n",
       "      <td>-2</td>\n",
       "      <td>-2</td>\n",
       "      <td>Green</td>\n",
       "      <td>0</td>\n",
       "    </tr>\n",
       "    <tr>\n",
       "      <th>1</th>\n",
       "      <td>(1, 2)</td>\n",
       "      <td>-9</td>\n",
       "      <td>-3</td>\n",
       "      <td>-12</td>\n",
       "      <td>Green</td>\n",
       "      <td>0</td>\n",
       "    </tr>\n",
       "    <tr>\n",
       "      <th>2</th>\n",
       "      <td>(0, 2)</td>\n",
       "      <td>-18</td>\n",
       "      <td>-2</td>\n",
       "      <td>-20</td>\n",
       "      <td>Green</td>\n",
       "      <td>0</td>\n",
       "    </tr>\n",
       "    <tr>\n",
       "      <th>3</th>\n",
       "      <td>(0, 3)</td>\n",
       "      <td>-27</td>\n",
       "      <td>-3</td>\n",
       "      <td>-30</td>\n",
       "      <td>Green</td>\n",
       "      <td>0</td>\n",
       "    </tr>\n",
       "    <tr>\n",
       "      <th>4</th>\n",
       "      <td>(0, 1)</td>\n",
       "      <td>-27</td>\n",
       "      <td>-1</td>\n",
       "      <td>-28</td>\n",
       "      <td>Green</td>\n",
       "      <td>0</td>\n",
       "    </tr>\n",
       "    <tr>\n",
       "      <th>5</th>\n",
       "      <td>(2, 1)</td>\n",
       "      <td>-9</td>\n",
       "      <td>-3</td>\n",
       "      <td>-12</td>\n",
       "      <td>Green</td>\n",
       "      <td>0</td>\n",
       "    </tr>\n",
       "    <tr>\n",
       "      <th>6</th>\n",
       "      <td>(2, 0)</td>\n",
       "      <td>-18</td>\n",
       "      <td>-2</td>\n",
       "      <td>-20</td>\n",
       "      <td>Green</td>\n",
       "      <td>0</td>\n",
       "    </tr>\n",
       "    <tr>\n",
       "      <th>7</th>\n",
       "      <td>(1, 0)</td>\n",
       "      <td>-27</td>\n",
       "      <td>-1</td>\n",
       "      <td>-28</td>\n",
       "      <td>Green</td>\n",
       "      <td>0</td>\n",
       "    </tr>\n",
       "    <tr>\n",
       "      <th>8</th>\n",
       "      <td>(3, 0)</td>\n",
       "      <td>-27</td>\n",
       "      <td>-1</td>\n",
       "      <td>-28</td>\n",
       "      <td>Green</td>\n",
       "      <td>0</td>\n",
       "    </tr>\n",
       "    <tr>\n",
       "      <th>9</th>\n",
       "      <td>(0, 1)</td>\n",
       "      <td>-27</td>\n",
       "      <td>-1</td>\n",
       "      <td>-10</td>\n",
       "      <td>Green</td>\n",
       "      <td>0</td>\n",
       "    </tr>\n",
       "    <tr>\n",
       "      <th>10</th>\n",
       "      <td>(1, 0)</td>\n",
       "      <td>-27</td>\n",
       "      <td>-1</td>\n",
       "      <td>-10</td>\n",
       "      <td>Green</td>\n",
       "      <td>0</td>\n",
       "    </tr>\n",
       "    <tr>\n",
       "      <th>11</th>\n",
       "      <td>(1, 3)</td>\n",
       "      <td>-16</td>\n",
       "      <td>6</td>\n",
       "      <td>-10</td>\n",
       "      <td>Red</td>\n",
       "      <td>0</td>\n",
       "    </tr>\n",
       "    <tr>\n",
       "      <th>12</th>\n",
       "      <td>(2, 3)</td>\n",
       "      <td>-25</td>\n",
       "      <td>-5</td>\n",
       "      <td>-30</td>\n",
       "      <td>Green</td>\n",
       "      <td>1</td>\n",
       "    </tr>\n",
       "  </tbody>\n",
       "</table>\n",
       "</div>"
      ],
      "text/plain": [
       "      Node  Step Cost  Heuristic Cost  Total Cost Node Colour  Goal Node?\n",
       "0   (1, 1)          0              -2          -2       Green           0\n",
       "1   (1, 2)         -9              -3         -12       Green           0\n",
       "2   (0, 2)        -18              -2         -20       Green           0\n",
       "3   (0, 3)        -27              -3         -30       Green           0\n",
       "4   (0, 1)        -27              -1         -28       Green           0\n",
       "5   (2, 1)         -9              -3         -12       Green           0\n",
       "6   (2, 0)        -18              -2         -20       Green           0\n",
       "7   (1, 0)        -27              -1         -28       Green           0\n",
       "8   (3, 0)        -27              -1         -28       Green           0\n",
       "9   (0, 1)        -27              -1         -10       Green           0\n",
       "10  (1, 0)        -27              -1         -10       Green           0\n",
       "11  (1, 3)        -16               6         -10         Red           0\n",
       "12  (2, 3)        -25              -5         -30       Green           1"
      ]
     },
     "metadata": {},
     "output_type": "display_data"
    },
    {
     "name": "stdout",
     "output_type": "stream",
     "text": [
      "Space complexity of the program  17\n",
      "Time in seconds  0.011993646621704102\n"
     ]
    }
   ],
   "source": [
    "#Invoke algorithm 1 (Should Print the solution, path, cost etc., (As mentioned in the problem))\n",
    "\n",
    "# Starting agent path search for scenario1 using agent G1\n",
    "agt_name = 'G1'\n",
    "path, sc1_g1_space, sc1_g1_time = a_star(start, grid1_goal, grid1, agt_name)\n",
    "path.reverse()\n",
    "print('Final Path Taken by ',agt_name,' through Grid 1', '->'.join(str(x) for x in path))\n",
    "print('---navigation logs--')\n",
    "log_path(logs, False);\n",
    "\n",
    "print('Space complexity of the program ',sc1_g1_space)\n",
    "print('Time in seconds ',sc1_g1_time)\n",
    "\n"
   ]
  },
  {
   "cell_type": "markdown",
   "metadata": {},
   "source": [
    "Agent R1"
   ]
  },
  {
   "cell_type": "code",
   "execution_count": 11,
   "metadata": {},
   "outputs": [
    {
     "name": "stdout",
     "output_type": "stream",
     "text": [
      "Starting node  (1, 1) Goal Node  (2, 3)\n",
      "Found goal  (2, 3)\n",
      "Final Path Taken by  R1  through Grid 1 (1, 1)->(1, 2)->(1, 3)->(2, 3)\n",
      "---navigation logs--\n",
      "\u001b[91m Printing navigation logs\n",
      "\u001b[90m\n"
     ]
    },
    {
     "data": {
      "text/html": [
       "<div>\n",
       "<style scoped>\n",
       "    .dataframe tbody tr th:only-of-type {\n",
       "        vertical-align: middle;\n",
       "    }\n",
       "\n",
       "    .dataframe tbody tr th {\n",
       "        vertical-align: top;\n",
       "    }\n",
       "\n",
       "    .dataframe thead th {\n",
       "        text-align: right;\n",
       "    }\n",
       "</style>\n",
       "<table border=\"1\" class=\"dataframe\">\n",
       "  <thead>\n",
       "    <tr style=\"text-align: right;\">\n",
       "      <th></th>\n",
       "      <th>Node</th>\n",
       "      <th>Step Cost</th>\n",
       "      <th>Heuristic Cost</th>\n",
       "      <th>Total Cost</th>\n",
       "      <th>Node Colour</th>\n",
       "      <th>Goal Node?</th>\n",
       "    </tr>\n",
       "  </thead>\n",
       "  <tbody>\n",
       "    <tr>\n",
       "      <th>0</th>\n",
       "      <td>(1, 1)</td>\n",
       "      <td>0</td>\n",
       "      <td>-2</td>\n",
       "      <td>-2</td>\n",
       "      <td>Green</td>\n",
       "      <td>0</td>\n",
       "    </tr>\n",
       "    <tr>\n",
       "      <th>1</th>\n",
       "      <td>(1, 2)</td>\n",
       "      <td>11</td>\n",
       "      <td>-3</td>\n",
       "      <td>8</td>\n",
       "      <td>Green</td>\n",
       "      <td>0</td>\n",
       "    </tr>\n",
       "    <tr>\n",
       "      <th>2</th>\n",
       "      <td>(1, 3)</td>\n",
       "      <td>2</td>\n",
       "      <td>6</td>\n",
       "      <td>8</td>\n",
       "      <td>Red</td>\n",
       "      <td>0</td>\n",
       "    </tr>\n",
       "    <tr>\n",
       "      <th>3</th>\n",
       "      <td>(2, 1)</td>\n",
       "      <td>11</td>\n",
       "      <td>-3</td>\n",
       "      <td>8</td>\n",
       "      <td>Green</td>\n",
       "      <td>0</td>\n",
       "    </tr>\n",
       "    <tr>\n",
       "      <th>4</th>\n",
       "      <td>(2, 2)</td>\n",
       "      <td>2</td>\n",
       "      <td>6</td>\n",
       "      <td>8</td>\n",
       "      <td>Red</td>\n",
       "      <td>0</td>\n",
       "    </tr>\n",
       "    <tr>\n",
       "      <th>5</th>\n",
       "      <td>(2, 3)</td>\n",
       "      <td>13</td>\n",
       "      <td>-5</td>\n",
       "      <td>8</td>\n",
       "      <td>Green</td>\n",
       "      <td>1</td>\n",
       "    </tr>\n",
       "  </tbody>\n",
       "</table>\n",
       "</div>"
      ],
      "text/plain": [
       "     Node  Step Cost  Heuristic Cost  Total Cost Node Colour  Goal Node?\n",
       "0  (1, 1)          0              -2          -2       Green           0\n",
       "1  (1, 2)         11              -3           8       Green           0\n",
       "2  (1, 3)          2               6           8         Red           0\n",
       "3  (2, 1)         11              -3           8       Green           0\n",
       "4  (2, 2)          2               6           8         Red           0\n",
       "5  (2, 3)         13              -5           8       Green           1"
      ]
     },
     "metadata": {},
     "output_type": "display_data"
    },
    {
     "name": "stdout",
     "output_type": "stream",
     "text": [
      "Space complexity of the program  14\n",
      "Time in seconds  0.0009989738464355469\n"
     ]
    }
   ],
   "source": [
    "# Starting agent path search for scenario1 using agent R1\n",
    "agt_name = 'R1'\n",
    "path, sc1_r1_space, sc1_r1_time = a_star(start, grid1_goal, grid1, agt_name)\n",
    "path.reverse()\n",
    "print('Final Path Taken by ',agt_name,' through Grid 1','->'.join(str(x) for x in path))\n",
    "print('---navigation logs--')\n",
    "log_path(logs, False);\n",
    "\n",
    "print('Space complexity of the program ',sc1_r1_space)\n",
    "print('Time in seconds ',sc1_r1_time)"
   ]
  },
  {
   "cell_type": "markdown",
   "metadata": {
    "id": "0CI64HFVFyug"
   },
   "source": [
    "<b>Agent search for scenario 2 (Grid 2)<b>"
   ]
  },
  {
   "cell_type": "markdown",
   "metadata": {},
   "source": [
    "Agent G1"
   ]
  },
  {
   "cell_type": "code",
   "execution_count": 12,
   "metadata": {},
   "outputs": [
    {
     "name": "stdout",
     "output_type": "stream",
     "text": [
      "Starting node  (1, 1) Goal Node  (2, 2)\n",
      "Found goal  (2, 2)\n",
      "Final Path Taken by  G1  through Grid 2 (1, 1)->(1, 2)->(2, 2)\n",
      "---navigation logs--\n",
      "\u001b[91m Printing navigation logs\n",
      "\u001b[90m\n"
     ]
    },
    {
     "data": {
      "text/html": [
       "<div>\n",
       "<style scoped>\n",
       "    .dataframe tbody tr th:only-of-type {\n",
       "        vertical-align: middle;\n",
       "    }\n",
       "\n",
       "    .dataframe tbody tr th {\n",
       "        vertical-align: top;\n",
       "    }\n",
       "\n",
       "    .dataframe thead th {\n",
       "        text-align: right;\n",
       "    }\n",
       "</style>\n",
       "<table border=\"1\" class=\"dataframe\">\n",
       "  <thead>\n",
       "    <tr style=\"text-align: right;\">\n",
       "      <th></th>\n",
       "      <th>Node</th>\n",
       "      <th>Step Cost</th>\n",
       "      <th>Heuristic Cost</th>\n",
       "      <th>Total Cost</th>\n",
       "      <th>Node Colour</th>\n",
       "      <th>Goal Node?</th>\n",
       "    </tr>\n",
       "  </thead>\n",
       "  <tbody>\n",
       "    <tr>\n",
       "      <th>0</th>\n",
       "      <td>(1, 1)</td>\n",
       "      <td>0</td>\n",
       "      <td>-3</td>\n",
       "      <td>-3</td>\n",
       "      <td>Red</td>\n",
       "      <td>0</td>\n",
       "    </tr>\n",
       "    <tr>\n",
       "      <th>1</th>\n",
       "      <td>(1, 2)</td>\n",
       "      <td>-9</td>\n",
       "      <td>6</td>\n",
       "      <td>-3</td>\n",
       "      <td>Green</td>\n",
       "      <td>0</td>\n",
       "    </tr>\n",
       "    <tr>\n",
       "      <th>2</th>\n",
       "      <td>(2, 1)</td>\n",
       "      <td>-9</td>\n",
       "      <td>6</td>\n",
       "      <td>-3</td>\n",
       "      <td>Green</td>\n",
       "      <td>0</td>\n",
       "    </tr>\n",
       "    <tr>\n",
       "      <th>3</th>\n",
       "      <td>(2, 2)</td>\n",
       "      <td>2</td>\n",
       "      <td>-5</td>\n",
       "      <td>-3</td>\n",
       "      <td>Red</td>\n",
       "      <td>1</td>\n",
       "    </tr>\n",
       "  </tbody>\n",
       "</table>\n",
       "</div>"
      ],
      "text/plain": [
       "     Node  Step Cost  Heuristic Cost  Total Cost Node Colour  Goal Node?\n",
       "0  (1, 1)          0              -3          -3         Red           0\n",
       "1  (1, 2)         -9               6          -3       Green           0\n",
       "2  (2, 1)         -9               6          -3       Green           0\n",
       "3  (2, 2)          2              -5          -3         Red           1"
      ]
     },
     "metadata": {},
     "output_type": "display_data"
    },
    {
     "name": "stdout",
     "output_type": "stream",
     "text": [
      "Space complexity of the program  10\n",
      "Time in seconds  0.00099945068359375\n"
     ]
    }
   ],
   "source": [
    "#Invoke algorithm 1 (Should Print the solution, path, cost etc., (As mentioned in the problem))\n",
    "\n",
    "# Starting agent path search for scenario1 using agent G1\n",
    "agt_name = 'G1'\n",
    "path, sc2_g1_space, sc2_g1_time = a_star(start, grid2_goal, grid2, agt_name)\n",
    "path.reverse()\n",
    "print('Final Path Taken by ',agt_name,' through Grid 2','->'.join(str(x) for x in path))\n",
    "print('---navigation logs--')\n",
    "log_path(logs, False);\n",
    "\n",
    "print('Space complexity of the program ',sc2_g1_space)\n",
    "print('Time in seconds ',sc2_g1_time)"
   ]
  },
  {
   "cell_type": "markdown",
   "metadata": {},
   "source": [
    "Agent R1"
   ]
  },
  {
   "cell_type": "code",
   "execution_count": 13,
   "metadata": {},
   "outputs": [
    {
     "name": "stdout",
     "output_type": "stream",
     "text": [
      "Starting node  (1, 1) Goal Node  (2, 2)\n",
      "Found goal  (2, 2)\n",
      "Final Path Taken by  R1  through Grid 2 (1, 1)->(1, 2)->(2, 2)\n",
      "---navigation logs--\n",
      "\u001b[91m Printing navigation logs\n",
      "\u001b[90m\n"
     ]
    },
    {
     "data": {
      "text/html": [
       "<div>\n",
       "<style scoped>\n",
       "    .dataframe tbody tr th:only-of-type {\n",
       "        vertical-align: middle;\n",
       "    }\n",
       "\n",
       "    .dataframe tbody tr th {\n",
       "        vertical-align: top;\n",
       "    }\n",
       "\n",
       "    .dataframe thead th {\n",
       "        text-align: right;\n",
       "    }\n",
       "</style>\n",
       "<table border=\"1\" class=\"dataframe\">\n",
       "  <thead>\n",
       "    <tr style=\"text-align: right;\">\n",
       "      <th></th>\n",
       "      <th>Node</th>\n",
       "      <th>Step Cost</th>\n",
       "      <th>Heuristic Cost</th>\n",
       "      <th>Total Cost</th>\n",
       "      <th>Node Colour</th>\n",
       "      <th>Goal Node?</th>\n",
       "    </tr>\n",
       "  </thead>\n",
       "  <tbody>\n",
       "    <tr>\n",
       "      <th>0</th>\n",
       "      <td>(1, 1)</td>\n",
       "      <td>0</td>\n",
       "      <td>-3</td>\n",
       "      <td>-3</td>\n",
       "      <td>Red</td>\n",
       "      <td>0</td>\n",
       "    </tr>\n",
       "    <tr>\n",
       "      <th>1</th>\n",
       "      <td>(1, 2)</td>\n",
       "      <td>11</td>\n",
       "      <td>6</td>\n",
       "      <td>17</td>\n",
       "      <td>Green</td>\n",
       "      <td>0</td>\n",
       "    </tr>\n",
       "    <tr>\n",
       "      <th>2</th>\n",
       "      <td>(2, 2)</td>\n",
       "      <td>2</td>\n",
       "      <td>-5</td>\n",
       "      <td>-3</td>\n",
       "      <td>Red</td>\n",
       "      <td>1</td>\n",
       "    </tr>\n",
       "  </tbody>\n",
       "</table>\n",
       "</div>"
      ],
      "text/plain": [
       "     Node  Step Cost  Heuristic Cost  Total Cost Node Colour  Goal Node?\n",
       "0  (1, 1)          0              -3          -3         Red           0\n",
       "1  (1, 2)         11               6          17       Green           0\n",
       "2  (2, 2)          2              -5          -3         Red           1"
      ]
     },
     "metadata": {},
     "output_type": "display_data"
    },
    {
     "name": "stdout",
     "output_type": "stream",
     "text": [
      "Space complexity of the program  8\n",
      "Time in seconds  0.0010001659393310547\n"
     ]
    }
   ],
   "source": [
    "# Starting agent path search for scenario1 using agent R1\n",
    "agt_name = 'R1'\n",
    "path, sc2_r1_space, sc2_r1_time = a_star(start, grid2_goal, grid2, agt_name)\n",
    "path.reverse()\n",
    "print('Final Path Taken by ',agt_name,' through Grid 2','->'.join(str(x) for x in path))\n",
    "print('---navigation logs--')\n",
    "log_path(logs, False);\n",
    "\n",
    "print('Space complexity of the program ',sc2_r1_space)\n",
    "print('Time in seconds ',sc2_r1_time)"
   ]
  },
  {
   "cell_type": "markdown",
   "metadata": {
    "id": "pPN1mgOSFyug"
   },
   "source": [
    "### 5.\tComparitive Analysis"
   ]
  },
  {
   "cell_type": "code",
   "execution_count": 14,
   "metadata": {
    "id": "EwBYRVQHFyug"
   },
   "outputs": [
    {
     "data": {
      "text/html": [
       "<b>Space Complexity:</b><table border=\"1\" class=\"dataframe\">\n",
       "  <thead>\n",
       "    <tr style=\"text-align: right;\">\n",
       "      <th>Scenario</th>\n",
       "      <th>Agent G1</th>\n",
       "      <th>Agent R1</th>\n",
       "      <th>Space Diff</th>\n",
       "    </tr>\n",
       "  </thead>\n",
       "  <tbody>\n",
       "    <tr>\n",
       "      <td>SC1</td>\n",
       "      <td>17</td>\n",
       "      <td>14</td>\n",
       "      <td>-3</td>\n",
       "    </tr>\n",
       "    <tr>\n",
       "      <td>SC2</td>\n",
       "      <td>10</td>\n",
       "      <td>8</td>\n",
       "      <td>-2</td>\n",
       "    </tr>\n",
       "    <tr>\n",
       "      <td>DIFF</td>\n",
       "      <td>-7</td>\n",
       "      <td>-6</td>\n",
       "      <td></td>\n",
       "    </tr>\n",
       "  </tbody>\n",
       "</table>"
      ],
      "text/plain": [
       "<IPython.core.display.HTML object>"
      ]
     },
     "execution_count": 14,
     "metadata": {},
     "output_type": "execute_result"
    }
   ],
   "source": [
    "#Code Block : Print the Time & Space complexity of algorithm 1 \n",
    "\n",
    "data_space = [\n",
    "    ['SC1', sc1_g1_space, sc1_r1_space, sc1_r1_space-sc1_g1_space ],\n",
    "    ['SC2',sc2_g1_space, sc2_r1_space, sc2_r1_space-sc2_g1_space],\n",
    "    ['DIFF',sc2_g1_space - sc1_g1_space,sc2_r1_space - sc1_r1_space,'']\n",
    "]\n",
    "\n",
    "space_df = pd.DataFrame(data_space, columns=['Scenario', 'Agent G1', 'Agent R1', 'Space Diff'])\n",
    "theader = '<b>Space Complexity:</b>'+space_df.to_html(index=False)\n",
    "HTML(theader)   "
   ]
  },
  {
   "cell_type": "code",
   "execution_count": 15,
   "metadata": {
    "id": "1xEwLMG3Fyug"
   },
   "outputs": [
    {
     "data": {
      "text/html": [
       "<b>Time Complexity:</b><table border=\"1\" class=\"dataframe\">\n",
       "  <thead>\n",
       "    <tr style=\"text-align: right;\">\n",
       "      <th>Scenario</th>\n",
       "      <th>Agent G1</th>\n",
       "      <th>Agent R1</th>\n",
       "      <th>Time Diff</th>\n",
       "    </tr>\n",
       "  </thead>\n",
       "  <tbody>\n",
       "    <tr>\n",
       "      <td>SC1</td>\n",
       "      <td>17</td>\n",
       "      <td>14</td>\n",
       "      <td>-3</td>\n",
       "    </tr>\n",
       "    <tr>\n",
       "      <td>SC2</td>\n",
       "      <td>10</td>\n",
       "      <td>8</td>\n",
       "      <td>-2</td>\n",
       "    </tr>\n",
       "    <tr>\n",
       "      <td>DIFF</td>\n",
       "      <td>-7</td>\n",
       "      <td>-6</td>\n",
       "      <td></td>\n",
       "    </tr>\n",
       "  </tbody>\n",
       "</table>"
      ],
      "text/plain": [
       "<IPython.core.display.HTML object>"
      ]
     },
     "execution_count": 15,
     "metadata": {},
     "output_type": "execute_result"
    }
   ],
   "source": [
    "#Code Block : Print the Time & Space complexity of algorithm 1 \n",
    "\n",
    "data_time = [\n",
    "    ['SC1', sc1_g1_time, sc1_r1_time, sc1_r1_time-sc1_g1_time ],\n",
    "    ['SC2',sc2_g1_time, sc2_r1_space, sc2_r1_space-sc2_g1_time],\n",
    "    ['DIFF',sc2_g1_time - sc1_g1_time,sc2_r1_time - sc1_r1_time,'']\n",
    "]\n",
    "\n",
    "\n",
    "time_df = pd.DataFrame(data_space, columns=['Scenario', 'Agent G1', 'Agent R1', 'Time Diff'])\n",
    "theader = '<b>Time Complexity:</b>'+time_df.to_html(index=False)\n",
    "HTML(theader) \n",
    " "
   ]
  },
  {
   "cell_type": "markdown",
   "metadata": {
    "id": "bw-wFCQRFyug"
   },
   "source": [
    "### 6.\tProvide your comparitive analysis or findings in no more than 3 lines in below section"
   ]
  },
  {
   "cell_type": "markdown",
   "metadata": {
    "id": "8XbDn1pgFyug"
   },
   "source": [
    "<b>Comparison :</b> \n",
    "<li>Both the agents perform better in terms of time and space complexity in scenario 2 (grid 2)\n",
    "<li>In scenario 1, the performance of the agents depends heavily on the start node of the agents. If G1 agent is placed above the red diagonal rooms in the centre, more number of rooms are opened to reach the node. However if the agent G1 is placed below the red diagonal rooms, it reaches the goal quickly\n",
    "<li>For both the scenarios, agent R1, gives search path in terms of both time and cost efficiency\n",
    "<li>In scenario 2, the checker board pattern negates the room penalty and the color penalty as it moves across rooms. As moving across rooms are negating the room penalties, the manhattan distance take prominance in determining the best path. This is evident from the evaluation results where we can see scenario 2 giving better time and cost efficiency. \n",
    "<br>________________________________________________________\n",
    "\n",
    "_________________________________________________________"
   ]
  },
  {
   "cell_type": "code",
   "execution_count": null,
   "metadata": {},
   "outputs": [],
   "source": []
  }
 ],
 "metadata": {
  "colab": {
   "provenance": []
  },
  "kernelspec": {
   "display_name": "Python 3",
   "language": "python",
   "name": "python3"
  },
  "language_info": {
   "codemirror_mode": {
    "name": "ipython",
    "version": 3
   },
   "file_extension": ".py",
   "mimetype": "text/x-python",
   "name": "python",
   "nbconvert_exporter": "python",
   "pygments_lexer": "ipython3",
   "version": "3.8.3"
  }
 },
 "nbformat": 4,
 "nbformat_minor": 1
}
